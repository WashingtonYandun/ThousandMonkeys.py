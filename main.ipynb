{
 "cells": [
  {
   "cell_type": "markdown",
   "metadata": {},
   "source": [
    "# Thousand Monkeys (Simulations experiments)\n",
    "\n",
    "In this project, we are delving into the realm of modeling and simulation using Python. Our endeavor centers around the intriguing concept of the 'Infinite Monkey Theorem.' This theorem posits that given an infinite number of monkeys equipped with typewriters and an infinite amount of time, they would eventually produce all possible literary works, including those of Shakespeare, purely by chance.\n",
    "\n",
    "Our objective is to simulate this phenomenon through the lens of modeling and simulation using Python. By harnessing the power of randomness and algorithms, we will endeavor to mimic the hypothetical scenario where monkeys randomly generate text. Through iterations and comparisons, we will gauge the similarity of their output with a target text. While a simplistic approach, this simulation will serve as a fascinating exploration of probabilistic and computational concepts, offering us insights into the intricacies of chance, randomness, and the infinite\n"
   ]
  },
  {
   "cell_type": "markdown",
   "metadata": {},
   "source": [
    "For implementing this we only will be using the following libraries\n"
   ]
  },
  {
   "cell_type": "code",
   "execution_count": 94,
   "metadata": {},
   "outputs": [],
   "source": [
    "import numpy as np\n",
    "import pandas as pd\n",
    "import matplotlib.pyplot as plt\n",
    "\n",
    "np.random.seed(42)"
   ]
  },
  {
   "cell_type": "markdown",
   "metadata": {},
   "source": [
    "We used a object oriented programming approach to implement the algorithm as you can see we created the Dna class and a Population class both represent the two most important concepts in the algorithm.\n"
   ]
  },
  {
   "cell_type": "code",
   "execution_count": 95,
   "metadata": {},
   "outputs": [],
   "source": [
    "class Dna:\n",
    "    def __init__(self, target, mutation_rate=0.01):\n",
    "        self.target = target\n",
    "        self.genes = []\n",
    "        self.fitness = 0\n",
    "        self.mutation_rate = mutation_rate\n",
    "\n",
    "        for _ in range(len(target)):\n",
    "            self.genes.append(chr(np.random.randint(32, 126)))\n",
    "\n",
    "    def calc_fitness(self):\n",
    "        score = 0\n",
    "        for i in range(len(self.target)):\n",
    "            if self.genes[i] == self.target[i]:\n",
    "                score += 1\n",
    "        self.fitness = score / len(self.target)\n",
    "\n",
    "    def crossover(self, partner):\n",
    "        child = Dna(\n",
    "            target=self.target,\n",
    "            mutation_rate=self.mutation_rate  # Pass mutation rate to child DNA\n",
    "        )\n",
    "        midpoint = np.random.randint(0, len(self.genes))\n",
    "        for i in range(len(self.genes)):\n",
    "            if i < midpoint:\n",
    "                child.genes[i] = self.genes[i]\n",
    "            else:\n",
    "                child.genes[i] = partner.genes[i]\n",
    "        return child\n",
    "\n",
    "    def mutate(self):\n",
    "        for i in range(len(self.genes)):\n",
    "            if random.random() < self.mutation_rate:\n",
    "                self.genes[i] = chr(np.random.randint(32, 126))\n",
    "\n",
    "    def get_phrase(self):\n",
    "        return ''.join(self.genes)"
   ]
  },
  {
   "cell_type": "code",
   "execution_count": 96,
   "metadata": {},
   "outputs": [],
   "source": [
    "class Population:\n",
    "    def __init__(self, target, mutation_rate, population_size):\n",
    "        self.target = target\n",
    "        self.mutation_rate = mutation_rate\n",
    "        self.population_size = population_size\n",
    "        self.population = []\n",
    "        self.mating_pool = []\n",
    "        self.generations = 0\n",
    "        self.finished = False\n",
    "        self.perfect_score = 1\n",
    "\n",
    "        for _ in range(population_size):\n",
    "            self.population.append(Dna(target, mutation_rate))\n",
    "\n",
    "        self.calc_fitness()\n",
    "\n",
    "    def calc_fitness(self):\n",
    "        for i in range(self.population_size):\n",
    "            self.population[i].calc_fitness()\n",
    "\n",
    "    def natural_selection(self):\n",
    "        self.mating_pool = []  # Clear the mating pool\n",
    "\n",
    "        # Create the mating pool based on fitness\n",
    "        for i in range(self.population_size):\n",
    "            # Scale the fitness value\n",
    "            n = int(self.population[i].fitness * 100)\n",
    "            self.mating_pool.extend([self.population[i]] * n)\n",
    "\n",
    "    def generate(self):\n",
    "        new_population = []  # Store the new population temporarily\n",
    "        for _ in range(self.population_size):\n",
    "            a = np.random.randint(0, len(self.mating_pool) - 1)\n",
    "            b = np.random.randint(0, len(self.mating_pool) - 1)\n",
    "            partner_a = self.mating_pool[a]\n",
    "            partner_b = self.mating_pool[b]\n",
    "            child = partner_a.crossover(partner_b)\n",
    "            child.mutate()\n",
    "            new_population.append(child)\n",
    "\n",
    "        self.population = new_population  # Update the population with the new individuals\n",
    "        self.generations += 1\n",
    "\n",
    "    def get_best(self):\n",
    "        world_record = 0\n",
    "        index = 0\n",
    "        for i in range(self.population_size):\n",
    "            if self.population[i].fitness > world_record:\n",
    "                index = i\n",
    "                world_record = self.population[i].fitness\n",
    "\n",
    "        if world_record == self.perfect_score:\n",
    "            self.finished = True\n",
    "        return self.population[index].get_phrase()\n",
    "\n",
    "    def evaluate(self):\n",
    "        world_record = 0\n",
    "        index = 0\n",
    "        for i in range(self.population_size):\n",
    "            if self.population[i].fitness > world_record:\n",
    "                index = i\n",
    "                world_record = self.population[i].fitness\n",
    "\n",
    "        if world_record == self.perfect_score:\n",
    "            self.finished = True\n",
    "\n",
    "    def is_finished(self):\n",
    "        return self.finished\n",
    "\n",
    "    def get_average_fitness(self):\n",
    "        total = 0\n",
    "        for i in range(self.population_size):\n",
    "            total += self.population[i].fitness\n",
    "        return total / self.population_size\n",
    "\n",
    "    def show_population(self):\n",
    "        for i in range(self.population_size):\n",
    "            print(self.population[i].get_phrase())"
   ]
  },
  {
   "cell_type": "markdown",
   "metadata": {},
   "source": [
    "In order to see the experiment we made a \"usual experiment\" which is the normal way we can see the algorithm.\n"
   ]
  },
  {
   "cell_type": "code",
   "execution_count": 97,
   "metadata": {},
   "outputs": [],
   "source": [
    "def usual_experiment(target, mutation_rate, population_size):\n",
    "    population = Population(target, mutation_rate, population_size)\n",
    "\n",
    "    while not population.is_finished():\n",
    "        population.natural_selection()\n",
    "        population.generate()\n",
    "        population.calc_fitness()\n",
    "        population.evaluate()\n",
    "\n",
    "        if population.generations % 200 == 0:\n",
    "            print('Generation: ' + str(population.generations))\n",
    "            print('Average fitness: ' + str(population.get_average_fitness()))\n",
    "            print('Best phrase: ' + population.get_best())\n",
    "            print('')\n",
    "\n",
    "    print('Finished!')\n",
    "    print('Generation: ' + str(population.generations))\n",
    "    print('Average fitness: ' + str(population.get_average_fitness()))\n",
    "    print('Best phrase: ' + population.get_best())\n",
    "    print('')\n",
    "    return population.generations"
   ]
  },
  {
   "cell_type": "markdown",
   "metadata": {},
   "source": [
    "We did a \"usual experiment\" in order to show how it works\n"
   ]
  },
  {
   "cell_type": "code",
   "execution_count": 98,
   "metadata": {},
   "outputs": [
    {
     "name": "stdout",
     "output_type": "stream",
     "text": [
      "Generation: 200\n",
      "Average fitness: 0.6276000000000006\n",
      "Best phrase: WashingtonTPOndu> MxraCes\n",
      "\n",
      "Generation: 400\n",
      "Average fitness: 0.6948000000000006\n",
      "Best phrase: Washington u!ndun /oraRes\n",
      "\n",
      "Generation: 600\n",
      "Average fitness: 0.6872000000000001\n",
      "Best phrase: Washington 5_nduntMoraxes\n",
      "\n",
      "Generation: 800\n",
      "Average fitness: 0.7294000000000007\n",
      "Best phrase: Washingtoj MSndun Morales\n",
      "\n",
      "Generation: 1000\n",
      "Average fitness: 0.7182000000000001\n",
      "Best phrase: WashinKton Yjndun Morales\n",
      "\n",
      "Finished!\n",
      "Generation: 1051\n",
      "Average fitness: 0.7576000000000002\n",
      "Best phrase: Washington Yandun Morales\n",
      "\n"
     ]
    },
    {
     "data": {
      "text/plain": [
       "1051"
      ]
     },
     "execution_count": 98,
     "metadata": {},
     "output_type": "execute_result"
    }
   ],
   "source": [
    "target = 'Washington Yandun Morales'\n",
    "mutation_rate = 0.01\n",
    "population_size = 200\n",
    "\n",
    "usual_experiment(target, mutation_rate, population_size)"
   ]
  },
  {
   "cell_type": "markdown",
   "metadata": {},
   "source": [
    "Once we've implemented the \"Infinite Monkey Theorem\" algorithm using the genetic algorithm approach, there are several interesting areas we could explore through simulations. Here are some ideas:\n",
    "\n",
    "-   **Impact of Mutation Rate**\n",
    "\n",
    "Experiment with different mutation rates and observe how they affect convergence and the quality of solutions found. Is there an optimal balance between exploration and exploitation? How does the algorithm's dynamics change with high or low mutation rates?\n",
    "\n",
    "-   **Population Size**\n",
    "\n",
    "Modify the population size and observe how it affects the convergence speed and solution quality. Are larger populations needed to find optimal solutions? How do the results change with smaller populations?\n",
    "\n",
    "-   **Impact of Target Length**\n",
    "\n",
    "Vary the length of the target phrase and observe how it affects algorithm performance. Do solutions become harder or easier to find as the target length increases?\n",
    "\n",
    "-   **Alternative Selection Strategies**\n",
    "\n",
    "Experiment with different selection strategies in the reproduction process. How does parent selection affect convergence speed and quality?\n",
    "\n",
    "-   **Comparison with Alternative Algorithms**\n",
    "\n",
    "Compare the genetic algorithm with other search and optimization methods, such as random search or brute-force search. How does it compare in terms of convergence time and solution quality?\n",
    "\n",
    "These are just a few of the many possibilities we will be exploring through simulations of this algorithm.\n"
   ]
  }
 ],
 "metadata": {
  "kernelspec": {
   "display_name": "Python 3",
   "language": "python",
   "name": "python3"
  },
  "language_info": {
   "codemirror_mode": {
    "name": "ipython",
    "version": 3
   },
   "file_extension": ".py",
   "mimetype": "text/x-python",
   "name": "python",
   "nbconvert_exporter": "python",
   "pygments_lexer": "ipython3",
   "version": "3.11.4"
  },
  "orig_nbformat": 4
 },
 "nbformat": 4,
 "nbformat_minor": 2
}
